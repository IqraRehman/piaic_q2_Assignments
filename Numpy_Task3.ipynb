{
  "nbformat": 4,
  "nbformat_minor": 0,
  "metadata": {
    "kernelspec": {
      "display_name": "Python 3",
      "language": "python",
      "name": "python3"
    },
    "language_info": {
      "codemirror_mode": {
        "name": "ipython",
        "version": 3
      },
      "file_extension": ".py",
      "mimetype": "text/x-python",
      "name": "python",
      "nbconvert_exporter": "python",
      "pygments_lexer": "ipython3",
      "version": "3.7.4"
    },
    "colab": {
      "name": "Numpy_Task3.ipynb",
      "provenance": [],
      "include_colab_link": true
    }
  },
  "cells": [
    {
      "cell_type": "markdown",
      "metadata": {
        "id": "view-in-github",
        "colab_type": "text"
      },
      "source": [
        "<a href=\"https://colab.research.google.com/github/IqraRehman/piaic_q2_Assignments/blob/master/Numpy_Task3.ipynb\" target=\"_parent\"><img src=\"https://colab.research.google.com/assets/colab-badge.svg\" alt=\"Open In Colab\"/></a>"
      ]
    },
    {
      "cell_type": "markdown",
      "metadata": {
        "id": "_seq-whg4Xd4"
      },
      "source": [
        "# Election Results\n",
        "\n",
        "You’re part of an impartial research group that conducts phone surveys prior to local elections. During this election season, the group conducted a survey to determine how many people would vote for I_Khan vs. S_Sharif in the presidential election.\n",
        "\n",
        "Now that the election has occurred, your group wants to compare the survey responses to the actual results.\n",
        "\n",
        "Was your survey a good indicator? Let’s find out!"
      ]
    },
    {
      "cell_type": "markdown",
      "metadata": {
        "id": "tWhGx5Eo4XeC"
      },
      "source": [
        "# PROJECT STEPS"
      ]
    },
    {
      "cell_type": "markdown",
      "metadata": {
        "id": "4-Uz7FIc4XeD"
      },
      "source": [
        "1.First, import numpy and matplotlib."
      ]
    },
    {
      "cell_type": "code",
      "metadata": {
        "id": "xx8kmcym4XeE"
      },
      "source": [
        "#type your code here\n",
        "\n",
        "import numpy as np\n",
        "import matplotlib.pyplot as plt"
      ],
      "execution_count": 22,
      "outputs": []
    },
    {
      "cell_type": "markdown",
      "metadata": {
        "id": "GPE2WxkZ4XeF"
      },
      "source": [
        "2.There is a list given of the different survey responses.\n",
        "\n",
        "Calculate the number of people who answered ‘I_Khan’ and save the answer to the variable total_Khan.\n",
        "\n",
        "Print the variable to the terminal to see its value."
      ]
    },
    {
      "cell_type": "code",
      "metadata": {
        "colab": {
          "base_uri": "https://localhost:8080/"
        },
        "id": "T6lSfg754XeF",
        "outputId": "19407c15-51de-4fd4-ed34-c114f70b5190"
      },
      "source": [
        "survey_responses = ['Ceballos', 'Kerrigan', 'Ceballos', 'Ceballos', 'Ceballos','Kerrigan',\n",
        "                    'Kerrigan', 'Ceballos', 'Ceballos', 'Ceballos', 'Kerrigan', 'Kerrigan',\n",
        "                    'Ceballos', 'Ceballos', 'Kerrigan', 'Kerrigan','Ceballos', 'Ceballos', \n",
        "                    'Kerrigan', 'Kerrigan', 'Kerrigan', 'Kerrigan', 'Kerrigan', 'Kerrigan', \n",
        "                    'Ceballos', 'Ceballos', 'Ceballos', 'Ceballos', 'Ceballos', 'Ceballos',\n",
        "                    'Kerrigan', 'Kerrigan', 'Ceballos', 'Ceballos', 'Ceballos', 'Kerrigan',\n",
        "                    'Kerrigan', 'Ceballos', 'Ceballos', 'Kerrigan', 'Kerrigan', 'Ceballos', \n",
        "                    'Ceballos', 'Kerrigan', 'Kerrigan', 'Kerrigan', 'Kerrigan', 'Kerrigan',\n",
        "                    'Kerrigan', 'Ceballos','Kerrigan', 'Kerrigan', 'Ceballos', 'Ceballos', \n",
        "                    'Ceballos', 'Kerrigan', 'Kerrigan', 'Ceballos', 'Ceballos', 'Kerrigan', \n",
        "                    'Kerrigan', 'Ceballos', 'Ceballos', 'Kerrigan', 'Kerrigan', 'Kerrigan', \n",
        "                    'Kerrigan', 'Kerrigan', 'Kerrigan', 'Ceballos']\n",
        "\n",
        "#type your code here\n",
        "total_khan = survey_responses.count('Ceballos')\n",
        "total_khan\n"
      ],
      "execution_count": 2,
      "outputs": [
        {
          "output_type": "execute_result",
          "data": {
            "text/plain": [
              "33"
            ]
          },
          "metadata": {
            "tags": []
          },
          "execution_count": 2
        }
      ]
    },
    {
      "cell_type": "markdown",
      "metadata": {
        "id": "UXe5dS9S4XeG"
      },
      "source": [
        "3.Calculate the percentage of people in the survey who voted for I_Khan and save it to the variable percentage_I_Khan.\n",
        "\n",
        "Print the variable to the terminal to see its value."
      ]
    },
    {
      "cell_type": "code",
      "metadata": {
        "colab": {
          "base_uri": "https://localhost:8080/"
        },
        "id": "e0-0Pbk14XeG",
        "outputId": "888e56ac-95b8-4dd5-e8b1-d68b8a974ca5"
      },
      "source": [
        "#type your code here\n",
        "percentage_I_Khan = (total_khan / len(survey_responses))*100\n",
        "percentage_I_Khan"
      ],
      "execution_count": 3,
      "outputs": [
        {
          "output_type": "execute_result",
          "data": {
            "text/plain": [
              "47.14285714285714"
            ]
          },
          "metadata": {
            "tags": []
          },
          "execution_count": 3
        }
      ]
    },
    {
      "cell_type": "markdown",
      "metadata": {
        "id": "nyJhdi4Q4XeH"
      },
      "source": [
        "4.In the real election, 54% of the 10,000 town population voted for I_Khan. Your supervisors are concerned because this is a very different outcome than what the poll predicted. They want you to determine if there is something wrong with the poll or if given the sample size, it was an entirely reasonable result.\n",
        "\n",
        "Generate a binomial distribution that takes the number of total survey responses, the actual success rate, and the size of the town’s population as its parameters. Then divide the distribution by the number of survey responses. Save your calculation to the variable possible_surveys.\n",
        "\n",
        "######### hint###########\n",
        "possible_surveys = \n",
        "np.random.binomial(total of survey responses, the actual success rate,and the size of the town’s population ) "
      ]
    },
    {
      "cell_type": "code",
      "metadata": {
        "colab": {
          "base_uri": "https://localhost:8080/"
        },
        "id": "yJnqpPMI4XeH",
        "outputId": "1cac36be-2a4a-4a6b-ad26-c670004d2f2f"
      },
      "source": [
        "#type your code here\n",
        "possible_surveys = np.random.binomial(len(survey_responses),0.54,10000)/len(survey_responses)\n",
        "possible_surveys\n",
        "\n",
        "\n"
      ],
      "execution_count": 10,
      "outputs": [
        {
          "output_type": "execute_result",
          "data": {
            "text/plain": [
              "array([0.48571429, 0.51428571, 0.62857143, ..., 0.65714286, 0.5       ,\n",
              "       0.6       ])"
            ]
          },
          "metadata": {
            "tags": []
          },
          "execution_count": 10
        }
      ]
    },
    {
      "cell_type": "markdown",
      "metadata": {
        "id": "bCPdn-9e4XeI"
      },
      "source": [
        "\n",
        "      #######Optional########\n",
        "5.By using matplotlib Plot a histogram of possible_surveys with a range of 0-1 and 20 bins.\n"
      ]
    },
    {
      "cell_type": "code",
      "metadata": {
        "id": "Igv6eNEw4XeI",
        "colab": {
          "base_uri": "https://localhost:8080/",
          "height": 269
        },
        "outputId": "1571ad63-e6f8-4035-aa41-6d3c2227af5f"
      },
      "source": [
        "#type your code here\n",
        "plt.hist(possible_surveys,bins = 20)\n",
        "plt.show()\n"
      ],
      "execution_count": 27,
      "outputs": [
        {
          "output_type": "display_data",
          "data": {
            "image/png": "[encoded data removed]",
            "text/plain": [
              "<Figure size 432x288 with 1 Axes>"
            ]
          },
          "metadata": {
            "tags": [],
            "needs_background": "light"
          }
        }
      ]
    },
    {
      "cell_type": "markdown",
      "metadata": {
        "id": "bMSOuYi34XeI"
      },
      "source": [
        "6.As we saw, 47% of people we surveyed said they would vote for I_Khan, but 54% of people voted for I_Khan in the actual election.\n",
        "\n",
        "Calculate the percentage of surveys that could have an outcome of I_Khan receiving less than 50% of the vote and save it to the variable I_Khan_loss_surveys.\n",
        "\n",
        "Print the variable to the terminal."
      ]
    },
    {
      "cell_type": "code",
      "metadata": {
        "id": "Vjx6Bu-04XeJ",
        "colab": {
          "base_uri": "https://localhost:8080/"
        },
        "outputId": "035ce745-98fa-4e19-bfab-49a349cc772f"
      },
      "source": [
        "#type your code here\n",
        "I_Khan_loss_surveys = possible_surveys[possible_surveys < 0.5].mean()\n",
        "I_Khan_loss_surveys"
      ],
      "execution_count": 16,
      "outputs": [
        {
          "output_type": "execute_result",
          "data": {
            "text/plain": [
              "0.458524717789023"
            ]
          },
          "metadata": {
            "tags": []
          },
          "execution_count": 16
        }
      ]
    },
    {
      "cell_type": "markdown",
      "metadata": {
        "id": "QQ_jnxNm4XeJ"
      },
      "source": [
        "7.With this current poll, about 20% of the time a survey output would predict S_Sharif winning, even if I_Khan won the actual election.\n",
        "\n",
        "Your co-worker points out that your poll would be more accurate if it had more responders.\n",
        "\n",
        "Generate another binomial distribution, but this time, see what would happen if you had instead surveyed 7,000 people. Divide the distribution by the size of the survey and save your findings to large_survey.\n"
      ]
    },
    {
      "cell_type": "code",
      "metadata": {
        "id": "i30cw4104XeK",
        "colab": {
          "base_uri": "https://localhost:8080/"
        },
        "outputId": "307e5431-86a1-4c49-c56f-9e58962a949c"
      },
      "source": [
        "#type your code here\n",
        "large_survey = np.random.binomial(7000,0.54,10000)\n",
        "large_survey"
      ],
      "execution_count": null,
      "outputs": [
        {
          "output_type": "execute_result",
          "data": {
            "text/plain": [
              "array([3758, 3876, 3715, ..., 3793, 3774, 3812])"
            ]
          },
          "metadata": {
            "tags": []
          },
          "execution_count": 5
        }
      ]
    },
    {
      "cell_type": "markdown",
      "metadata": {
        "id": "XAxcVW814XeK"
      },
      "source": [
        "8.Now, recalculate the percentage of surveys that would have an outcome of I_Khan losing and save it to the variable I_Khan_loss_new, and print the value to the terminal.\n",
        "\n",
        "What do we notice about this new value?\n",
        "\n",
        "What advice would you give to your supervisors about predicting results from surveys?\n"
      ]
    },
    {
      "cell_type": "code",
      "metadata": {
        "id": "VD2rQ6kq4XeK",
        "colab": {
          "base_uri": "https://localhost:8080/"
        },
        "outputId": "7328e34d-5152-45d5-82b0-f6b4f1f474e5"
      },
      "source": [
        "#type your code here\n",
        "I_Khan_loss_new = (I_Khan_loss_surveys/len(survey_responses))*100\n",
        "I_Khan_loss_new\n"
      ],
      "execution_count": 17,
      "outputs": [
        {
          "output_type": "execute_result",
          "data": {
            "text/plain": [
              "0.6550353111271756"
            ]
          },
          "metadata": {
            "tags": []
          },
          "execution_count": 17
        }
      ]
    }
  ]
}